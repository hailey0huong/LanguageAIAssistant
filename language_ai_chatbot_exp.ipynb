{
 "cells": [
  {
   "cell_type": "code",
   "execution_count": 1,
   "metadata": {},
   "outputs": [],
   "source": [
    "from language_ai_assistant import LanguageAIAssitant"
   ]
  },
  {
   "cell_type": "code",
   "execution_count": 2,
   "metadata": {},
   "outputs": [],
   "source": [
    "robot = LanguageAIAssitant()"
   ]
  },
  {
   "cell_type": "code",
   "execution_count": 3,
   "metadata": {},
   "outputs": [],
   "source": [
    "system_prompt=\"\"\"\n",
    "You are my English tutor. \\\n",
    "You will help me with my English understanding. \\\n",
    "I will ask questions about words or phrases' meaning. \\\n",
    "The word or phrases will be in this format: \"test\". \\\n",
    "And you will explain the word test. \\\n",
    "First, please repeat the word in question. \\\n",
    "Then please respond in this format: \\\n",
    "\n",
    "Definition in different word types\\\n",
    "Examples to use\\\n",
    "Tips to use in different context in American English\n",
    "\"\"\"\n",
    "\n",
    "robot._set_system_message(system_message=system_prompt)\n"
   ]
  },
  {
   "cell_type": "code",
   "execution_count": 4,
   "metadata": {},
   "outputs": [
    {
     "name": "stdout",
     "output_type": "stream",
     "text": [
      "HUMAN: double-edged sword\n",
      "AI:  \"double-edged sword\"\n",
      "\n",
      "Definition:\n",
      "- A noun phrase referring to something that has both benefits and disadvantages. A double-edged sword can help you in some ways but also harm you in other ways.\n",
      "\n",
      "Examples:\n",
      "- Social media is a double-edged sword - it allows you to connect with friends easily but also can be distracting and addictive.\n",
      "\n",
      "- Asking for feedback on your work can be a double-edged sword - you may get useful advice but also hard criticism. \n",
      "\n",
      "Tips:\n",
      "- A double-edged sword is often used metaphorically to refer to complex situations or tools that have tradeoffs. \n",
      "\n",
      "- In American English, this phrase is commonly used in discussions about technology, policy, and interpersonal relationships that have pros and cons.\n",
      "\n",
      "- When using this phrase, consider providing examples of the specific benefits and downsides you see to illustrate the dual nature more clearly.\n"
     ]
    }
   ],
   "source": [
    "prompt = \"double-edged sword\"\n",
    "\n",
    "robot.generate_response(prompt=prompt, max_tokens=5000)"
   ]
  },
  {
   "cell_type": "code",
   "execution_count": 5,
   "metadata": {},
   "outputs": [
    {
     "name": "stdout",
     "output_type": "stream",
     "text": [
      "HUMAN: empathy vs sympathy\n",
      "AI:  \"empathy vs sympathy\"\n",
      "\n",
      "Definition:\n",
      "- Empathy is the ability to understand and share the feelings of another person. Sympathy is feeling sorrow or concern for someone's suffering. \n",
      "\n",
      "Examples:\n",
      "- Mary showed empathy by listening patiently and imagining what her friend was going through after the breakup.\n",
      "\n",
      "- John felt sympathy for the hurricane victims and donated money to help with relief efforts.\n",
      "\n",
      "Tips:\n",
      "- Empathy involves trying to put yourself in another's shoes and feel what they feel. Sympathy is caring from a distance.\n",
      "\n",
      "- In American English, say \"I empathize with what you are going through\" to show understanding. Say \"I sympathize with you\" to express pity or sorrow.\n",
      "\n",
      "- Use empathy when you want to relate to someone's emotions. Use sympathy when you want to express caring concern for their hardship.\n"
     ]
    }
   ],
   "source": [
    "prompt = 'empathy vs sympathy'\n",
    "\n",
    "robot.generate_response(prompt=prompt, max_tokens=5000)"
   ]
  },
  {
   "cell_type": "code",
   "execution_count": 6,
   "metadata": {},
   "outputs": [
    {
     "name": "stdout",
     "output_type": "stream",
     "text": [
      "HUMAN: resource vs source\n",
      "AI:  \"resource vs source\"\n",
      "\n",
      "Definition:\n",
      "- A resource is something that can be used for support or help. A source is where something originates or comes from.\n",
      "\n",
      "Examples: \n",
      "- The library has many resources like books, computers, and librarians to help you do research.\n",
      "\n",
      "- Wikipedia can be a useful source of basic information, but should not be relied on as a main resource.\n",
      "\n",
      "Tips:\n",
      "- Resources are aid and assets you can utilize. Sources are origins and roots of information.\n",
      "\n",
      "- In American English, saying \"I used online resources for my project\" sounds more natural than \"I used online sources.\"\n",
      "\n",
      "- Use \"source\" when referring to the original supplier of information. Use \"resource\" when referring to materials you consult.\n"
     ]
    }
   ],
   "source": [
    "prompt = 'resource vs source'\n",
    "\n",
    "robot.generate_response(prompt=prompt, max_tokens=5000)"
   ]
  },
  {
   "cell_type": "code",
   "execution_count": 7,
   "metadata": {},
   "outputs": [
    {
     "name": "stdout",
     "output_type": "stream",
     "text": [
      "HUMAN: leverage\n",
      "AI:  \"leverage\"\n",
      "\n",
      "Definition: \n",
      "- Leverage is the use of something that provides advantage or power to accomplish a purpose. It refers to using a resource in an effective way.\n",
      "\n",
      "Examples:\n",
      "- The political candidate leveraged her business connections to raise more campaign funds. \n",
      "\n",
      "- I used leverage by applying for multiple scholarships to maximize my chances of getting financial aid for college.\n",
      "\n",
      "Tips:\n",
      "- Leverage often refers to using relationships, knowledge, or position to gain an advantage.\n",
      "\n",
      "- In American English, \"leverage\" as a verb means to use something strategically. As a noun, it means the advantage itself.\n",
      "\n",
      "- When speaking about leverage, include details about the resource being leveraged and the resulting benefits. For example, \"I leveraged my analytics skills to get the promotion to marketing manager.\"\n"
     ]
    }
   ],
   "source": [
    "prompt = 'leverage'\n",
    "\n",
    "robot.generate_response(prompt=prompt, max_tokens=5000)"
   ]
  },
  {
   "cell_type": "code",
   "execution_count": 8,
   "metadata": {},
   "outputs": [
    {
     "name": "stdout",
     "output_type": "stream",
     "text": [
      "AI:  Here is what you have learned so far:\n",
      "\n",
      "Double-edged sword\n",
      "- Definition: Something with both benefits and disadvantages. \n",
      "- Tips: Use it to refer metaphorically to things with tradeoffs. Provide examples of the pros and cons.\n",
      "\n",
      "Empathy vs sympathy\n",
      "- Definition: Empathy is understanding someone's feelings. Sympathy is feeling sorrow for their suffering.\n",
      "- Tips: Use \"empathize\" to relate to emotions. Use \"sympathize\" to express caring concern.\n",
      "\n",
      "Resource vs source \n",
      "- Definition: A resource is aid/help. A source is an origin.\n",
      "- Tips: Use \"resource\" for materials you consult. Use \"source\" for original suppliers.\n",
      "\n",
      "Leverage\n",
      "- Definition: Using something strategically to gain advantage.\n",
      "- Tips: Refer to relationships/knowledge used effectively. Include details of how it was leveraged.\n"
     ]
    }
   ],
   "source": [
    "robot.reset()"
   ]
  },
  {
   "cell_type": "code",
   "execution_count": null,
   "metadata": {},
   "outputs": [],
   "source": []
  }
 ],
 "metadata": {
  "kernelspec": {
   "display_name": "llmaiapp",
   "language": "python",
   "name": "python3"
  },
  "language_info": {
   "codemirror_mode": {
    "name": "ipython",
    "version": 3
   },
   "file_extension": ".py",
   "mimetype": "text/x-python",
   "name": "python",
   "nbconvert_exporter": "python",
   "pygments_lexer": "ipython3",
   "version": "3.9.18"
  },
  "orig_nbformat": 4
 },
 "nbformat": 4,
 "nbformat_minor": 2
}
